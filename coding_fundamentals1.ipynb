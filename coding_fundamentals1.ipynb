{
 "cells": [
  {
   "cell_type": "code",
   "execution_count": 11,
   "id": "2868635c",
   "metadata": {},
   "outputs": [],
   "source": [
    "#create a function which can return us values which are divisible by 2,3,5\n",
    "def divisibility(limit):\n",
    "    for i in range(0,limit):\n",
    "        if i%2==0 or i%3==0 or i%5==0:\n",
    "            print(i,end=' ')"
   ]
  },
  {
   "cell_type": "code",
   "execution_count": 13,
   "id": "04b6e9c6",
   "metadata": {},
   "outputs": [
    {
     "name": "stdout",
     "output_type": "stream",
     "text": [
      "0 2 3 4 5 6 8 9 10 12 14 15 16 18 20 21 22 24 25 26 27 28 30 32 33 34 35 36 38 39 40 42 44 45 46 48 50 51 52 54 55 56 57 58 60 62 63 64 65 66 68 69 70 72 74 75 76 78 80 81 82 84 85 86 87 88 90 92 93 94 95 96 98 99 "
     ]
    }
   ],
   "source": [
    "divisibility(100)"
   ]
  },
  {
   "cell_type": "code",
   "execution_count": 22,
   "id": "96a4a1ed",
   "metadata": {},
   "outputs": [],
   "source": [
    "#create a function wich can return the number of upper case and lower case letters\n",
    "def text(name):\n",
    "    upper_case=0\n",
    "    lower_case=0\n",
    "    for i in name:\n",
    "        if i.isupper():\n",
    "            upper_case=upper_case+1\n",
    "        elif i.islower():\n",
    "            lower_case=lower_case+1\n",
    "        else:\n",
    "            pass\n",
    "    print(upper_case)\n",
    "    print(lower_case)\n",
    "   \n",
    "    \n",
    "        "
   ]
  },
  {
   "cell_type": "code",
   "execution_count": 23,
   "id": "a9c68574",
   "metadata": {},
   "outputs": [
    {
     "name": "stdout",
     "output_type": "stream",
     "text": [
      "4\n",
      "15\n"
     ]
    }
   ],
   "source": [
    "text('My Name is Vinay Rohith')"
   ]
  },
  {
   "cell_type": "code",
   "execution_count": 26,
   "id": "1790b4da",
   "metadata": {},
   "outputs": [
    {
     "ename": "SyntaxError",
     "evalue": "invalid syntax (1726454081.py, line 5)",
     "output_type": "error",
     "traceback": [
      "\u001b[1;36m  File \u001b[1;32m\"C:\\Users\\vrohithreddy\\AppData\\Local\\Temp\\ipykernel_3372\\1726454081.py\"\u001b[1;36m, line \u001b[1;32m5\u001b[0m\n\u001b[1;33m    print(*)\u001b[0m\n\u001b[1;37m           ^\u001b[0m\n\u001b[1;31mSyntaxError\u001b[0m\u001b[1;31m:\u001b[0m invalid syntax\n"
     ]
    }
   ],
   "source": [
    "#create a function which can print the pattern of upper matrix.\n",
    "def matrix(upper):\n",
    "    for i in range(0,upper):\n",
    "        for j in range(0,i):\n",
    "            print(*)\n",
    "        i=+1\n",
    "        j=-1"
   ]
  },
  {
   "cell_type": "code",
   "execution_count": 54,
   "id": "a9be16a0",
   "metadata": {},
   "outputs": [],
   "source": [
    "#create a function which can validate  a password.\n",
    "#uppercase, lower case,special char, digits\n",
    "#len 8\n",
    "#person 3 trives verify.\n",
    "def valid(password):\n",
    "    u,l,s=0,0,0\n",
    "    if len(password)>=8:\n",
    "        for i in password:\n",
    "            if i.isupper():\n",
    "                u=u+1\n",
    "            if i.islower():\n",
    "                l=l+1\n",
    "            if i=='@' or i=='_' or i=='!' or i=='&':\n",
    "                s=s+1\n",
    "    if u>0 and l>0 and s>0:\n",
    "        print(\"Password is valid\")\n",
    "    else:\n",
    "        print('Password is not valid')\n",
    "            \n",
    "    \n",
    "    \n",
    "        \n",
    "        "
   ]
  },
  {
   "cell_type": "code",
   "execution_count": 55,
   "id": "0295e08d",
   "metadata": {},
   "outputs": [
    {
     "name": "stdout",
     "output_type": "stream",
     "text": [
      "Password is valid\n"
     ]
    }
   ],
   "source": [
    "valid('Vinay@321')"
   ]
  },
  {
   "cell_type": "code",
   "execution_count": 30,
   "id": "fce0bf8c",
   "metadata": {},
   "outputs": [
    {
     "data": {
      "text/plain": [
       "False"
      ]
     },
     "execution_count": 30,
     "metadata": {},
     "output_type": "execute_result"
    }
   ],
   "source": [
    "\n"
   ]
  },
  {
   "cell_type": "code",
   "execution_count": 68,
   "id": "82e7b16f",
   "metadata": {},
   "outputs": [],
   "source": [
    "#to create a palindrome\n",
    "def palindrome(check):\n",
    "    if check[::-1]==check:\n",
    "        print('Its a palindrome')\n",
    "    else:\n",
    "        print(\"Its not a palindrome\")\n",
    "    "
   ]
  },
  {
   "cell_type": "code",
   "execution_count": 69,
   "id": "4444fd70",
   "metadata": {},
   "outputs": [
    {
     "name": "stdout",
     "output_type": "stream",
     "text": [
      "Its not a palindrome\n"
     ]
    }
   ],
   "source": [
    "palindrome(\"vinay rohith\")"
   ]
  },
  {
   "cell_type": "code",
   "execution_count": null,
   "id": "5e1834a8",
   "metadata": {},
   "outputs": [],
   "source": []
  },
  {
   "cell_type": "code",
   "execution_count": null,
   "id": "fc4539b0",
   "metadata": {},
   "outputs": [],
   "source": []
  },
  {
   "cell_type": "code",
   "execution_count": null,
   "id": "928450bd",
   "metadata": {},
   "outputs": [],
   "source": []
  },
  {
   "cell_type": "code",
   "execution_count": null,
   "id": "347241de",
   "metadata": {},
   "outputs": [],
   "source": []
  }
 ],
 "metadata": {
  "kernelspec": {
   "display_name": "Python 3 (ipykernel)",
   "language": "python",
   "name": "python3"
  },
  "language_info": {
   "codemirror_mode": {
    "name": "ipython",
    "version": 3
   },
   "file_extension": ".py",
   "mimetype": "text/x-python",
   "name": "python",
   "nbconvert_exporter": "python",
   "pygments_lexer": "ipython3",
   "version": "3.9.13"
  }
 },
 "nbformat": 4,
 "nbformat_minor": 5
}
