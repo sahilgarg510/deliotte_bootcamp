{
 "cells": [
  {
   "cell_type": "code",
   "execution_count": 8,
   "id": "86f079f9",
   "metadata": {},
   "outputs": [
    {
     "name": "stdout",
     "output_type": "stream",
     "text": [
      "Number 1: 1\n",
      "Operator: +\n",
      "Number 2: 2\n",
      "=\n",
      "3\n"
     ]
    }
   ],
   "source": [
    "num1=int(input(\"Number 1: \"))\n",
    "x=input(\"Operator: \")\n",
    "num2=int(input(\"Number 2: \"))\n",
    "print(\"=\")\n",
    "if x == \"+\":\n",
    "    print(num1+num2)\n",
    "elif x== \"-\":\n",
    "    print(num1-num2)\n",
    "elif x== \"*\":\n",
    "    print(num1*num2)\n",
    "elif x== \"/\":\n",
    "    print(num1/num2)\n",
    "else:\n",
    "    print(\"Invalid Operator\")"
   ]
  },
  {
   "cell_type": "code",
   "execution_count": 17,
   "id": "37aae93e",
   "metadata": {},
   "outputs": [
    {
     "name": "stdout",
     "output_type": "stream",
     "text": [
      "15\n"
     ]
    }
   ],
   "source": [
    "lst1=[1,2,3,4,5]\n",
    "# addition using function\n",
    "def addition (values):\n",
    "    sum=0;\n",
    "    for num in values:\n",
    "        sum=sum+num\n",
    "    return sum\n",
    "print(addition(lst1))"
   ]
  },
  {
   "cell_type": "code",
   "execution_count": 54,
   "id": "7aac59a5",
   "metadata": {},
   "outputs": [
    {
     "name": "stdout",
     "output_type": "stream",
     "text": [
      "2\n",
      "3\n",
      "4\n",
      "5\n",
      "6\n",
      "8\n",
      "9\n",
      "10\n"
     ]
    }
   ],
   "source": [
    "def divisibility(x):    \n",
    "    for i in range(1,x+1):\n",
    "        if i % 2 ==0 or i % 3 == 0 or i % 5 == 0:\n",
    "            print(i) \n",
    "divisibility(10)"
   ]
  },
  {
   "cell_type": "code",
   "execution_count": 70,
   "id": "d6bf2ef0",
   "metadata": {},
   "outputs": [
    {
     "name": "stdout",
     "output_type": "stream",
     "text": [
      "Uppercase count : 11\n",
      "Lowercase count : 14\n"
     ]
    }
   ],
   "source": [
    "str1 = \"The Black SuperMan is AWESOME\" #string\n",
    "def count(str1):#function to count number of upper case and lower case letters\n",
    "    U=0;#Uppercase count\n",
    "    L=0;#lowercase count\n",
    "    for s in str1:\n",
    "        if s.isupper():#checks whether the letter is in uppercase ,if true\n",
    "            U=U+1#Then the count for Uppercase is incremented \n",
    "        elif s.islower():#checks whether the letter is in lowercase ,if true\n",
    "            L=L+1#Then the count for Lowercase is incremented\n",
    "    print(\"Uppercase count :\", U)\n",
    "    print(\"Lowercase count :\", L)\n",
    "count(str1)"
   ]
  },
  {
   "cell_type": "code",
   "execution_count": 111,
   "id": "9aa2499f",
   "metadata": {},
   "outputs": [
    {
     "name": "stdout",
     "output_type": "stream",
     "text": [
      "2   4   6   8   \n",
      "\n",
      "   10  12  14 \n",
      "\n",
      "     16  18 \n",
      "\n",
      "       20 \n",
      "\n"
     ]
    }
   ],
   "source": [
    "#Time \n",
    "x=1;\n",
    "for i in range (0,4):\n",
    "    for j in range (0,4):\n",
    "        if i>j :\n",
    "            print (\" \",end=\" \")\n",
    "        elif i<=j and 2*x<10:\n",
    "            print (2*x,end=\"   \")\n",
    "            x+=1\n",
    "        elif i<=j and 2*x>=10:\n",
    "            print (\"\",2*x,end=\" \")\n",
    "            x+=1;\n",
    "    print (\"\\n\")\n",
    "    "
   ]
  },
  {
   "cell_type": "code",
   "execution_count": null,
   "id": "2e2931b8",
   "metadata": {},
   "outputs": [],
   "source": [
    "x=int(input())\n",
    "y=int(input())\n",
    "c=1\n",
    "if x==y:\n",
    "    for i in range(0,x):\n",
    "        for j in range(0,y):\n",
    "            c=c+\n"
   ]
  },
  {
   "cell_type": "code",
   "execution_count": 130,
   "id": "85e1da62",
   "metadata": {},
   "outputs": [
    {
     "name": "stdout",
     "output_type": "stream",
     "text": [
      "Enter the password: sgjdgsd\n",
      "Invalid\n"
     ]
    }
   ],
   "source": [
    "password= input(\"Enter the password: \") #input the password\n",
    "def find(password):#function\n",
    "        U=0 #Uppercase count\n",
    "        L=0 #Lowercase count\n",
    "        N=0 #Numeric count\n",
    "        X=0 #Special character count\n",
    "        s=0\n",
    "        m=0\n",
    "        if(len(password)<8):\n",
    "            print('Please enter more than 8 Characters')\n",
    "        else:\n",
    "            for c in password:\n",
    "                if c .isupper():\n",
    "                    U+=1\n",
    "                elif c.islower():\n",
    "                    L+=1\n",
    "                elif c.isnumeric():\n",
    "                    N+=1\n",
    "                elif c == '@'or c == '$' or c== '#' or c=='&' or c=='*':\n",
    "                    X+=1\n",
    "\n",
    "\n",
    "            if U>=1 and L>=1 and N>=1 and X>=1 :\n",
    "                print('valid Password')\n",
    "            else:\n",
    "                print('invalid Password.Please try again')\n",
    "find(password)"
   ]
  },
  {
   "cell_type": "code",
   "execution_count": 136,
   "id": "7a0ada9c",
   "metadata": {},
   "outputs": [
    {
     "name": "stdout",
     "output_type": "stream",
     "text": [
      "Enter a name:hytyhd\n",
      "hytyhd  is not a palindrome\n"
     ]
    }
   ],
   "source": [
    "name=input(\"Enter a name:\")\n",
    "def palindrome (name):\n",
    "    if name==name[::-1]:  \n",
    "          print(name,\" is a palindrome\")  \n",
    "    else:  \n",
    "          print(name,\" is not a palindrome\")\n",
    "palindrome(name)"
   ]
  }
 ],
 "metadata": {
  "kernelspec": {
   "display_name": "Python 3 (ipykernel)",
   "language": "python",
   "name": "python3"
  },
  "language_info": {
   "codemirror_mode": {
    "name": "ipython",
    "version": 3
   },
   "file_extension": ".py",
   "mimetype": "text/x-python",
   "name": "python",
   "nbconvert_exporter": "python",
   "pygments_lexer": "ipython3",
   "version": "3.9.13"
  }
 },
 "nbformat": 4,
 "nbformat_minor": 5
}
