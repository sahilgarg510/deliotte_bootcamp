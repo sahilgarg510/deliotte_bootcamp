{
 "cells": [
  {
   "cell_type": "code",
   "execution_count": 10,
   "id": "83a0427c",
   "metadata": {},
   "outputs": [
    {
     "name": "stdout",
     "output_type": "stream",
     "text": [
      "Palindrome\n"
     ]
    }
   ],
   "source": [
    "name='level'\n",
    "\n",
    "def palindrome(name):\n",
    "  reverse = \"\"\n",
    "  for i in name:\n",
    "        reverse = i + reverse\n",
    "  if name == reverse:\n",
    "    print(\"Palindrome\")\n",
    "  else:\n",
    "        print(\"Not palindrome\")\n",
    "        \n",
    "palindrome(name)"
   ]
  },
  {
   "cell_type": "code",
   "execution_count": 15,
   "id": "e396460e",
   "metadata": {},
   "outputs": [
    {
     "name": "stdout",
     "output_type": "stream",
     "text": [
      "Enter your password : Lipsa\n"
     ]
    }
   ],
   "source": [
    "password=input(\"Enter your password : \")\n",
    "def check_password(password):\n",
    "    lower_count=0\n",
    "    upper_count=0\n",
    "    digit_count=0\n",
    "    special_count=0 \n",
    "    if len(password) == 8:\n",
    "        for element in password:\n",
    "            if element.islower():\n",
    "                lower_count+=1\n",
    "            if element.isupper():\n",
    "                upper_count+=1\n",
    "            if element.isdigit():\n",
    "                digit_count+=1\n",
    "            if (element=='@' or element=='#' or element=='_' or element=='$' or element=='*'):\n",
    "                special_count+=1\n",
    "    if (lower_count>=1 and  upper_count>=1 and digit_count>=1 and special_count>=1 and lower_count+upper_count+digit_count+special_count==len(password)):\n",
    "        print(\"valid password\")\n",
    "    else:\n",
    "        print(\"Invalid password\")"
   ]
  },
  {
   "cell_type": "code",
   "execution_count": 16,
   "id": "b4a66647",
   "metadata": {},
   "outputs": [
    {
     "name": "stdout",
     "output_type": "stream",
     "text": [
      "Invalid password\n"
     ]
    }
   ],
   "source": [
    "check_password(password)"
   ]
  },
  {
   "cell_type": "code",
   "execution_count": null,
   "id": "b6fb0a3a",
   "metadata": {},
   "outputs": [],
   "source": []
  }
 ],
 "metadata": {
  "kernelspec": {
   "display_name": "Python 3 (ipykernel)",
   "language": "python",
   "name": "python3"
  },
  "language_info": {
   "codemirror_mode": {
    "name": "ipython",
    "version": 3
   },
   "file_extension": ".py",
   "mimetype": "text/x-python",
   "name": "python",
   "nbconvert_exporter": "python",
   "pygments_lexer": "ipython3",
   "version": "3.9.13"
  }
 },
 "nbformat": 4,
 "nbformat_minor": 5
}
