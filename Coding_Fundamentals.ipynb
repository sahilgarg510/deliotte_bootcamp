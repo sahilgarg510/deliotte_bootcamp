{
 "cells": [
  {
   "cell_type": "code",
   "execution_count": 1,
   "id": "0d32715e",
   "metadata": {},
   "outputs": [
    {
     "name": "stdout",
     "output_type": "stream",
     "text": [
      "Enter first number: 5\n",
      "Enter second number: 3\n",
      "Enter the operator: +\n",
      "8\n"
     ]
    }
   ],
   "source": [
    "number_1 = int(input(\"Enter first number: \"))\n",
    "number_2 = int(input(\"Enter second number: \"))\n",
    "\n",
    "operator = input(\"Enter the operator: \")\n",
    "\n",
    "if(operator==\"+\"):\n",
    "    print(number_1+number_2)\n",
    "elif(operator==\"-\"):\n",
    "    print(number_1-number_2)\n",
    "elif(operator==\"*\"):\n",
    "    print(number_1*number_2)\n",
    "elif(operator==\"/\"):\n",
    "    print(number_1/number_2)\n",
    "elif(operator==\"%\"):\n",
    "    print(number_1%number_2)\n",
    "else:\n",
    "    print(\"Please enter a valid operator\")"
   ]
  },
  {
   "cell_type": "code",
   "execution_count": 2,
   "id": "596d2d5e",
   "metadata": {},
   "outputs": [],
   "source": [
    "def calculator(number_1, number_2, operator):\n",
    "    if(operator==\"+\"):\n",
    "        print(number_1+number_2)\n",
    "    elif(operator==\"-\"):\n",
    "        print(number_1-number_2)\n",
    "    elif(operator==\"*\"):\n",
    "        print(number_1*number_2)\n",
    "    elif(operator==\"/\"):\n",
    "        print(number_1/number_2)\n",
    "    elif(operator==\"%\"):\n",
    "        print(number_1%number_2)\n",
    "    else:\n",
    "        print(\"Please enter a valid operator\")"
   ]
  },
  {
   "cell_type": "code",
   "execution_count": 3,
   "id": "806ae9b3",
   "metadata": {},
   "outputs": [
    {
     "name": "stdout",
     "output_type": "stream",
     "text": [
      "8\n"
     ]
    }
   ],
   "source": [
    "calculator(5,3,\"+\")"
   ]
  },
  {
   "cell_type": "code",
   "execution_count": 5,
   "id": "dc2c6677",
   "metadata": {},
   "outputs": [],
   "source": [
    "def listSum(values):\n",
    "    sum=0\n",
    "    for i in values:\n",
    "        sum+=i\n",
    "    return sum"
   ]
  },
  {
   "cell_type": "code",
   "execution_count": 6,
   "id": "3a5d8db9",
   "metadata": {},
   "outputs": [
    {
     "data": {
      "text/plain": [
       "15"
      ]
     },
     "execution_count": 6,
     "metadata": {},
     "output_type": "execute_result"
    }
   ],
   "source": [
    "lst = [1,2,3,4,5]\n",
    "listSum(lst)"
   ]
  },
  {
   "cell_type": "code",
   "execution_count": 23,
   "id": "a6a082b7",
   "metadata": {},
   "outputs": [],
   "source": [
    "def div(n):\n",
    "    lst =[]\n",
    "    for i in range(1,n+1):\n",
    "        if(i%2==0 or i%3==0 or i%5==0):\n",
    "            lst.append(i)\n",
    "    return lst"
   ]
  },
  {
   "cell_type": "code",
   "execution_count": 12,
   "id": "c415b686",
   "metadata": {},
   "outputs": [
    {
     "name": "stdout",
     "output_type": "stream",
     "text": [
      "2\n",
      "3\n",
      "4\n",
      "5\n",
      "6\n",
      "8\n",
      "9\n",
      "10\n"
     ]
    }
   ],
   "source": [
    "lst2 = [1,2,3,4,5,6,7,8,9,10,11,12]\n",
    "div(lst2)"
   ]
  },
  {
   "cell_type": "code",
   "execution_count": 24,
   "id": "8e129765",
   "metadata": {},
   "outputs": [
    {
     "data": {
      "text/plain": [
       "[2, 3, 4, 5, 6, 8, 9, 10]"
      ]
     },
     "execution_count": 24,
     "metadata": {},
     "output_type": "execute_result"
    }
   ],
   "source": [
    "div(10)"
   ]
  },
  {
   "cell_type": "code",
   "execution_count": 30,
   "id": "d30b168d",
   "metadata": {},
   "outputs": [],
   "source": [
    "def upperLowerCase(text):\n",
    "    lowerCaseCount = 0\n",
    "    upperCaseCount = 0\n",
    "    \n",
    "    for letter in text:\n",
    "        if(letter.islower()):\n",
    "            lowerCaseCount+=1\n",
    "        elif(letter.isupper()):\n",
    "            upperCaseCount+=1\n",
    "    print(\"Lower Case Count: \",lowerCaseCount)\n",
    "    print(\"Upper Case Count: \",upperCaseCount)"
   ]
  },
  {
   "cell_type": "code",
   "execution_count": 33,
   "id": "9bacecf1",
   "metadata": {},
   "outputs": [
    {
     "name": "stdout",
     "output_type": "stream",
     "text": [
      "Lower Case Count:  15\n",
      "Upper Case Count:  2\n"
     ]
    }
   ],
   "source": [
    "upperLowerCase(\"Welcome to Deloitte\")"
   ]
  },
  {
   "cell_type": "code",
   "execution_count": 34,
   "id": "b3bdd924",
   "metadata": {},
   "outputs": [
    {
     "name": "stdout",
     "output_type": "stream",
     "text": [
      "True\n"
     ]
    }
   ],
   "source": [
    "text2=\"hello\"\n",
    "if(text2==text2.islower()):\n",
    "    print(text2.isupper())\n",
    "else:\n",
    "    print(text2.islower())"
   ]
  },
  {
   "cell_type": "code",
   "execution_count": 75,
   "id": "2d31b0fa",
   "metadata": {},
   "outputs": [],
   "source": [
    "def pattern1(n=3):\n",
    "    k=1\n",
    "    for i in range(n):\n",
    "        for j in range(n):\n",
    "            if(j>=i):\n",
    "                print(2*k,end=\" \")\n",
    "                k+=1\n",
    "            else:\n",
    "                print(\"  \",end=\" \")\n",
    "        print(\"\\n\")\n",
    "            "
   ]
  },
  {
   "cell_type": "code",
   "execution_count": 76,
   "id": "1c0901fa",
   "metadata": {},
   "outputs": [
    {
     "name": "stdout",
     "output_type": "stream",
     "text": [
      "2 4 6 8 \n",
      "\n",
      "   10 12 14 \n",
      "\n",
      "      16 18 \n",
      "\n",
      "         20 \n",
      "\n"
     ]
    }
   ],
   "source": [
    "pattern1(4)"
   ]
  },
  {
   "cell_type": "code",
   "execution_count": 103,
   "id": "af1583f6",
   "metadata": {},
   "outputs": [],
   "source": [
    "def pattern2(n=5,l=12):\n",
    "    k=1\n",
    "    for i in range(n):\n",
    "        for j in range(n):\n",
    "            if(j>=i):\n",
    "                print(2*k,end=\"  \")\n",
    "                k+=1\n",
    "            else:\n",
    "                print(\"  \",end=\"  \")\n",
    "        print(\"\\n\")\n",
    "        "
   ]
  },
  {
   "cell_type": "code",
   "execution_count": 104,
   "id": "137fa1a6",
   "metadata": {},
   "outputs": [
    {
     "name": "stdout",
     "output_type": "stream",
     "text": [
      "2  4  6  8  10  \n",
      "\n",
      "    12  14  16  18  \n",
      "\n",
      "        20  22  24  \n",
      "\n",
      "            26  28  \n",
      "\n",
      "                30  \n",
      "\n"
     ]
    }
   ],
   "source": [
    "pattern2()"
   ]
  },
  {
   "cell_type": "code",
   "execution_count": 22,
   "id": "15192fde",
   "metadata": {},
   "outputs": [
    {
     "name": "stdout",
     "output_type": "stream",
     "text": [
      "Enter Password: wdfwdf\n",
      "Not a valid password\n",
      "Enter Password: dfwf\n",
      "Not a valid password\n",
      "Enter Password: dfwf\n",
      "Not a valid password\n"
     ]
    }
   ],
   "source": [
    "#Function To Validate Password\n",
    "import re\n",
    "def validatePassword(password):\n",
    "    while True:\n",
    "        if(len(password)<8 or (not re.search(\"[A-Z]\",password)) or (not re.search(\"[a-z]\",password)) or (not re.search(\"[#@$%&_*]\",password))):\n",
    "            return(0)\n",
    "        else:\n",
    "            return(1)\n",
    "\n",
    "trials=0\n",
    "while(trials<3):\n",
    "    password = input(\"Enter Password: \")\n",
    "    result=validatePassword(password)\n",
    "    if(result==0):\n",
    "        print(\"Not a valid password\")\n",
    "    elif(result==1):\n",
    "        print(\"Valid password\")\n",
    "        break\n",
    "    trials+=1"
   ]
  },
  {
   "cell_type": "code",
   "execution_count": 14,
   "id": "daa5a0d1",
   "metadata": {},
   "outputs": [
    {
     "name": "stdout",
     "output_type": "stream",
     "text": [
      "Enter any text: malayalam\n",
      "Given text is a Palindrome\n"
     ]
    }
   ],
   "source": [
    "#Function to check Palindrome\n",
    "\n",
    "def checkPalindrome(text):\n",
    "    reverse=text[::-1]\n",
    "    if(text==reverse):\n",
    "        return(print(\"Given text is a Palindrome\"))\n",
    "    else:\n",
    "        return(print(\"Not a Palindrome\"))\n",
    "    \n",
    "text=input(\"Enter any text: \")\n",
    "checkPalindrome(text)"
   ]
  }
 ],
 "metadata": {
  "kernelspec": {
   "display_name": "Python 3 (ipykernel)",
   "language": "python",
   "name": "python3"
  },
  "language_info": {
   "codemirror_mode": {
    "name": "ipython",
    "version": 3
   },
   "file_extension": ".py",
   "mimetype": "text/x-python",
   "name": "python",
   "nbconvert_exporter": "python",
   "pygments_lexer": "ipython3",
   "version": "3.9.13"
  }
 },
 "nbformat": 4,
 "nbformat_minor": 5
}
