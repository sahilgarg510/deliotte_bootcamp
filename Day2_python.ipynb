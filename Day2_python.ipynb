{
 "cells": [
  {
   "cell_type": "markdown",
   "id": "5d90cc19",
   "metadata": {},
   "source": [
    "# PYTHON"
   ]
  },
  {
   "cell_type": "code",
   "execution_count": null,
   "id": "cb56f3b1",
   "metadata": {},
   "outputs": [],
   "source": [
    "# it is a design of the object-->class\n",
    "testing_list=[1,2,3,4]\n",
    "type(testing_list)"
   ]
  },
  {
   "cell_type": "code",
   "execution_count": null,
   "id": "71901182",
   "metadata": {},
   "outputs": [],
   "source": [
    "print(type(testing_list))"
   ]
  },
  {
   "cell_type": "code",
   "execution_count": null,
   "id": "8092ca38",
   "metadata": {},
   "outputs": [],
   "source": [
    "class comapny(object):\n",
    "    def __init__(self,name):\n",
    "        self.name=name\n",
    "    def printValue(self):\n",
    "        print(f'this is {self.name}')"
   ]
  },
  {
   "cell_type": "code",
   "execution_count": null,
   "id": "ff557f9c",
   "metadata": {},
   "outputs": [],
   "source": [
    "class BootCamp(company):\n",
    "    \n",
    "    company='Deloitte'#class variables\n",
    "    \n",
    "    def __init__(self,name, employee, department, location):\n",
    "        self.employee=employee\n",
    "        self.department=department\n",
    "        self.location=location\n",
    "        company.__init__(self,name)\n",
    "        \n",
    "    def allocation(self, location):\n",
    "        print(f'{self.employee} is assigned to bootcamp training at location {location}')\n",
    "    \n",
    "    @classmethod\n",
    "    def printInfo(cls):\n",
    "        print(f'this object belongs to {cls.company}')\n",
    "    @staticmethod\n",
    "    def info():\n",
    "        print('description of class')\n",
    "    \n",
    "    def printvalue(self):\n",
    "        print(\"Testing classes\")\n",
    "        \n"
   ]
  },
  {
   "cell_type": "code",
   "execution_count": null,
   "id": "57d42f44",
   "metadata": {},
   "outputs": [],
   "source": []
  },
  {
   "cell_type": "code",
   "execution_count": null,
   "id": "e3820164",
   "metadata": {},
   "outputs": [],
   "source": [
    "employee1=BootCamp('Vinay','S&A','Hyd')\n",
    "employee2=BootCamp('Yashu','S&A','Hyd')\n",
    "print(employee1.employee)\n",
    "print(employee2.location)"
   ]
  },
  {
   "cell_type": "code",
   "execution_count": null,
   "id": "b34cc667",
   "metadata": {},
   "outputs": [],
   "source": [
    "employee2.allocation('hyd')\n",
    "print(employee2.employee)"
   ]
  },
  {
   "cell_type": "code",
   "execution_count": null,
   "id": "1d1adc6a",
   "metadata": {},
   "outputs": [],
   "source": [
    "employee1.printInfo()"
   ]
  },
  {
   "cell_type": "code",
   "execution_count": null,
   "id": "9c0c216c",
   "metadata": {},
   "outputs": [],
   "source": [
    "employee1.printvalue()"
   ]
  },
  {
   "cell_type": "code",
   "execution_count": null,
   "id": "e4ccd62d",
   "metadata": {},
   "outputs": [],
   "source": [
    "#'__init__'-->it works like in the constrcuter way"
   ]
  },
  {
   "cell_type": "code",
   "execution_count": null,
   "id": "8480b133",
   "metadata": {},
   "outputs": [],
   "source": [
    "list1=[1,2,3,4,5]\n",
    "list1."
   ]
  },
  {
   "cell_type": "code",
   "execution_count": null,
   "id": "e919b0ed",
   "metadata": {},
   "outputs": [],
   "source": [
    "class ListMethods:\n",
    "    \n",
    "    def __init__(self,values):\n",
    "        self.values=values\n",
    "        \n",
    "    def append(self,newvalue):\n",
    "        self.values.append(newvalue)\n",
    "    def sort(self):\n",
    "        self.values.sort()\n",
    "    def pop(self,no):\n",
    "        self.values.pop()\n",
    "    def count(self):\n",
    "        self.values.count()\n",
    "    def reverse(self):\n",
    "        self.values.reverse()\n",
    "    \n",
    "    \n",
    "     \n",
    "        \n",
    "       \n",
    "        \n",
    "    "
   ]
  },
  {
   "cell_type": "code",
   "execution_count": null,
   "id": "34b7b696",
   "metadata": {},
   "outputs": [],
   "source": [
    "list1=ListMethods([4,2,1,7,9,45])"
   ]
  },
  {
   "cell_type": "code",
   "execution_count": null,
   "id": "b13c1db9",
   "metadata": {},
   "outputs": [],
   "source": [
    "list1.append(12)"
   ]
  },
  {
   "cell_type": "code",
   "execution_count": null,
   "id": "b271c9c8",
   "metadata": {},
   "outputs": [],
   "source": [
    "list1.values"
   ]
  },
  {
   "cell_type": "code",
   "execution_count": null,
   "id": "b3a69719",
   "metadata": {},
   "outputs": [],
   "source": [
    "list1.reverse()"
   ]
  },
  {
   "cell_type": "markdown",
   "id": "5aee5c7a",
   "metadata": {},
   "source": [
    "list1.values"
   ]
  },
  {
   "cell_type": "code",
   "execution_count": null,
   "id": "9ea8d1be",
   "metadata": {},
   "outputs": [],
   "source": [
    "list1.values"
   ]
  },
  {
   "cell_type": "code",
   "execution_count": null,
   "id": "47a48cd0",
   "metadata": {},
   "outputs": [],
   "source": [
    "list1.pop(45)"
   ]
  },
  {
   "cell_type": "code",
   "execution_count": null,
   "id": "e81077af",
   "metadata": {},
   "outputs": [],
   "source": [
    "list1.values"
   ]
  },
  {
   "cell_type": "code",
   "execution_count": null,
   "id": "836dfad4",
   "metadata": {},
   "outputs": [],
   "source": [
    " while True:\n",
    "    try:\n",
    "        value=int(input(\"enter value\"))\n",
    "        print(value+value)\n",
    "    except Exception as e:\n",
    "        print(e)\n",
    "        continue"
   ]
  },
  {
   "cell_type": "markdown",
   "id": "d89016fc",
   "metadata": {},
   "source": [
    "# PANDAS\n"
   ]
  },
  {
   "cell_type": "code",
   "execution_count": null,
   "id": "136f49e8",
   "metadata": {},
   "outputs": [],
   "source": [
    "import pandas as pd\n",
    "\n",
    "\n",
    "series=pd.Series([1,2,3,4,5,6])"
   ]
  },
  {
   "cell_type": "code",
   "execution_count": null,
   "id": "56e1f131",
   "metadata": {},
   "outputs": [],
   "source": [
    "series"
   ]
  },
  {
   "cell_type": "code",
   "execution_count": null,
   "id": "57e0c81b",
   "metadata": {},
   "outputs": [],
   "source": [
    "1+2"
   ]
  },
  {
   "cell_type": "code",
   "execution_count": null,
   "id": "00b4c171",
   "metadata": {},
   "outputs": [],
   "source": []
  },
  {
   "cell_type": "code",
   "execution_count": null,
   "id": "9c20114b",
   "metadata": {},
   "outputs": [],
   "source": []
  }
 ],
 "metadata": {
  "kernelspec": {
   "display_name": "Python 3 (ipykernel)",
   "language": "python",
   "name": "python3"
  },
  "language_info": {
   "codemirror_mode": {
    "name": "ipython",
    "version": 3
   },
   "file_extension": ".py",
   "mimetype": "text/x-python",
   "name": "python",
   "nbconvert_exporter": "python",
   "pygments_lexer": "ipython3",
   "version": "3.9.13"
  }
 },
 "nbformat": 4,
 "nbformat_minor": 5
}
