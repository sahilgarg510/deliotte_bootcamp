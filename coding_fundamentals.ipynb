{
 "cells": [
  {
   "cell_type": "code",
   "execution_count": 2,
   "id": "a42c689f",
   "metadata": {},
   "outputs": [
    {
     "name": "stdout",
     "output_type": "stream",
     "text": [
      "[1, 2, 3, 4, 'A', 'b']\n"
     ]
    }
   ],
   "source": [
    "testing_list=[1,2,3,4,'A','b']\n",
    "print(testing_list)"
   ]
  },
  {
   "cell_type": "code",
   "execution_count": 3,
   "id": "03251fbe",
   "metadata": {},
   "outputs": [
    {
     "name": "stdout",
     "output_type": "stream",
     "text": [
      "enter the number:1\n"
     ]
    },
    {
     "data": {
      "text/plain": [
       "str"
      ]
     },
     "execution_count": 3,
     "metadata": {},
     "output_type": "execute_result"
    }
   ],
   "source": [
    "number1=input('enter the number:')\n",
    "type(number1)\n",
    "#so the function inout always takes the value as a string."
   ]
  },
  {
   "cell_type": "code",
   "execution_count": 6,
   "id": "ad562482",
   "metadata": {},
   "outputs": [
    {
     "name": "stdout",
     "output_type": "stream",
     "text": [
      "enter the number:1\n",
      "enter the number:3\n",
      "<class 'int'>\n",
      "<class 'float'>\n"
     ]
    }
   ],
   "source": [
    "number2=int(input('enter the number:'))\n",
    "number3=float(input('enter the number:'))\n",
    "print(type(number2))\n",
    "print(type(number3))"
   ]
  },
  {
   "cell_type": "code",
   "execution_count": 8,
   "id": "6bc2c1c8",
   "metadata": {},
   "outputs": [
    {
     "name": "stdout",
     "output_type": "stream",
     "text": [
      "enter the first vaiable:12\n",
      "Enter the second variable:4\n",
      "Enter the operation:mul\n",
      "48\n"
     ]
    }
   ],
   "source": [
    "#creating the calculator using the elif funcitons\n",
    "_var1=int(input(\"enter the first vaiable:\"))\n",
    "_var2=int(input(\"Enter the second variable:\"))\n",
    "_op=input('Enter the operation:')\n",
    "if _op=='sum':\n",
    "    print(_var1+_var2)\n",
    "elif _op=='sub':\n",
    "    print(_var1-_var2)\n",
    "elif _op=='div':\n",
    "    print(-var1/_var2)\n",
    "elif _op=='mul':\n",
    "    print(_var1*_var2)\n",
    "else:\n",
    "    print(\"enter valid variables\")\n",
    "    "
   ]
  },
  {
   "cell_type": "code",
   "execution_count": null,
   "id": "821348a9",
   "metadata": {},
   "outputs": [],
   "source": [
    "#time complexity and the Space complexity\n",
    "#time complexity-O(n)-->here n refers to the size of the objects, variables etc.\n",
    "#first  priority goes to time complexity followed by the space complexity."
   ]
  },
  {
   "cell_type": "code",
   "execution_count": 11,
   "id": "f0105b29",
   "metadata": {},
   "outputs": [
    {
     "name": "stdout",
     "output_type": "stream",
     "text": [
      "1\n",
      "2\n",
      "4\n",
      "12\n",
      "34\n",
      "5\n",
      "2\n",
      "5\n",
      "7\n",
      "9\n"
     ]
    }
   ],
   "source": [
    "number=[[1,2,4],[12,34,5],[2,5,7,9]]\n",
    "for number in number:\n",
    "    for _num in number:\n",
    "        print(_num)\n",
    "        #here the time compexity is O(n2)--> as the loop is repeating two times."
   ]
  },
  {
   "cell_type": "code",
   "execution_count": null,
   "id": "b9fce96f",
   "metadata": {},
   "outputs": [],
   "source": [
    "#break,continue,pass\n",
    "#you should work out on these."
   ]
  },
  {
   "cell_type": "code",
   "execution_count": null,
   "id": "ef04f111",
   "metadata": {},
   "outputs": [],
   "source": [
    "#functions are provided by the def"
   ]
  },
  {
   "cell_type": "code",
   "execution_count": 15,
   "id": "772bd80e",
   "metadata": {},
   "outputs": [],
   "source": [
    "def function1():\n",
    "    print('my name is vinay')\n",
    "    "
   ]
  },
  {
   "cell_type": "code",
   "execution_count": null,
   "id": "21a35ef5",
   "metadata": {},
   "outputs": [],
   "source": [
    "def calculator(num1,num2,operator):\n",
    "    if operator=='+':\n",
    "        print(f'sum is {num1+num2}')\n",
    "    elif operator=='-':\n",
    "        print(f'sub is {num1+num2}')\n",
    "    elif operator=='':\n",
    "        print(f'mul is {num1+num2}')\n",
    "    elif operator=='+':\n",
    "        print(f'div is {num1+num2}')"
   ]
  },
  {
   "cell_type": "code",
   "execution_count": 17,
   "id": "a3cb8248",
   "metadata": {},
   "outputs": [
    {
     "name": "stdout",
     "output_type": "stream",
     "text": [
      "my name is vinay\n"
     ]
    }
   ],
   "source": [
    "function1()\n"
   ]
  },
  {
   "cell_type": "code",
   "execution_count": 24,
   "id": "32fd881f",
   "metadata": {},
   "outputs": [],
   "source": [
    "#create a function which can find the sum of list of the variables.\n",
    "def list_sum(var):\n",
    "    sum=0;\n",
    "    for values in var:\n",
    "        sum=sum+values\n",
    "    print(f'the sum is {sum}')"
   ]
  },
  {
   "cell_type": "code",
   "execution_count": 25,
   "id": "a833cf6e",
   "metadata": {},
   "outputs": [
    {
     "name": "stdout",
     "output_type": "stream",
     "text": [
      "the sum is 21\n"
     ]
    }
   ],
   "source": [
    "var1=[1,2,3,4,5,6]\n",
    "list_sum(var1)"
   ]
  },
  {
   "cell_type": "code",
   "execution_count": null,
   "id": "4001bbee",
   "metadata": {},
   "outputs": [],
   "source": [
    "#create a function which can return us values which are divisible by 2,3,5\n",
    "def divisibility(limit):\n",
    "    for i in range(0,limit):\n",
    "        if i%2==0 or i%3==0 or i%5==0:\n",
    "            "
   ]
  },
  {
   "cell_type": "code",
   "execution_count": null,
   "id": "ec09d846",
   "metadata": {},
   "outputs": [],
   "source": [
    "print('vinay')"
   ]
  },
  {
   "cell_type": "code",
   "execution_count": null,
   "id": "0577599b",
   "metadata": {},
   "outputs": [],
   "source": []
  },
  {
   "cell_type": "code",
   "execution_count": null,
   "id": "7fff9165",
   "metadata": {},
   "outputs": [],
   "source": []
  },
  {
   "cell_type": "code",
   "execution_count": null,
   "id": "675de2c4",
   "metadata": {},
   "outputs": [],
   "source": []
  }
 ],
 "metadata": {
  "kernelspec": {
   "display_name": "Python 3 (ipykernel)",
   "language": "python",
   "name": "python3"
  },
  "language_info": {
   "codemirror_mode": {
    "name": "ipython",
    "version": 3
   },
   "file_extension": ".py",
   "mimetype": "text/x-python",
   "name": "python",
   "nbconvert_exporter": "python",
   "pygments_lexer": "ipython3",
   "version": "3.9.13"
  }
 },
 "nbformat": 4,
 "nbformat_minor": 5
}
