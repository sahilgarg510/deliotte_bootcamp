{
 "cells": [
  {
   "cell_type": "code",
   "execution_count": 1,
   "id": "b23e48fe",
   "metadata": {},
   "outputs": [
    {
     "name": "stdout",
     "output_type": "stream",
     "text": [
      "Enter the password: Hello@235\n",
      "valid Password\n"
     ]
    }
   ],
   "source": [
    "#Create ab function which can validate the password\n",
    "#uppercase,lowercase,special character,digits\n",
    "#length greater than 8\n",
    "#a person can verify 3 times\n",
    "\n",
    "password= input(\"Enter the password: \") #input the password\n",
    "def find(password):#function\n",
    "        U=0 #Uppercase count\n",
    "        L=0 #Lowercase count\n",
    "        N=0 #Numeric count\n",
    "        X=0 #Special character count\n",
    "        s=0\n",
    "        m=0\n",
    "        if(len(password)<8):\n",
    "            print('Please enter more than 8 Characters')\n",
    "        else:\n",
    "            for c in password:\n",
    "                if c .isupper():\n",
    "                    U+=1\n",
    "                elif c.islower():\n",
    "                    L+=1\n",
    "                elif c.isnumeric():\n",
    "                    N+=1\n",
    "                elif c == '@'or c == '$' or c== '#' or c=='&' or c=='*':\n",
    "                    X+=1\n",
    "\n",
    "\n",
    "            if U>=1 and L>=1 and N>=1 and X>=1 :\n",
    "                print('valid Password')\n",
    "            else:\n",
    "                print('invalid Password.Please try again')\n",
    "find(password)"
   ]
  },
  {
   "cell_type": "code",
   "execution_count": 2,
   "id": "6afb3244",
   "metadata": {},
   "outputs": [
    {
     "name": "stdout",
     "output_type": "stream",
     "text": [
      "Enter a name:helleh\n",
      "helleh  is a palindrome\n"
     ]
    }
   ],
   "source": [
    "name=input(\"Enter a name:\")\n",
    "def palindrome (name):\n",
    "    if name==name[::-1]:  \n",
    "          print(name,\" is a palindrome\")  \n",
    "    else:  \n",
    "          print(name,\" is not a palindrome\")\n",
    "palindrome(name)"
   ]
  }
 ],
 "metadata": {
  "kernelspec": {
   "display_name": "Python 3 (ipykernel)",
   "language": "python",
   "name": "python3"
  },
  "language_info": {
   "codemirror_mode": {
    "name": "ipython",
    "version": 3
   },
   "file_extension": ".py",
   "mimetype": "text/x-python",
   "name": "python",
   "nbconvert_exporter": "python",
   "pygments_lexer": "ipython3",
   "version": "3.9.13"
  }
 },
 "nbformat": 4,
 "nbformat_minor": 5
}
